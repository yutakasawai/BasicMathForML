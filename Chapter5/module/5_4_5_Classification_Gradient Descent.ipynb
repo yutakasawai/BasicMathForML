{
 "cells": [
  {
   "cell_type": "code",
   "execution_count": 2,
   "metadata": {
    "ExecuteTime": {
     "end_time": "2018-08-19T06:05:26.210912Z",
     "start_time": "2018-08-19T06:05:25.115571Z"
    }
   },
   "outputs": [
    {
     "data": {
      "text/html": [
       "<style>.container { width:100% !important; }</style>"
      ],
      "text/plain": [
       "<IPython.core.display.HTML object>"
      ]
     },
     "metadata": {},
     "output_type": "display_data"
    }
   ],
   "source": [
    "import collections\n",
    "import pathlib\n",
    "\n",
    "# データ処理周り\n",
    "import numpy as np\n",
    "import pandas as pd\n",
    "from IPython.core.display import display, HTML \n",
    "display(HTML(\"<style>.container { width:100% !important; }</style>\")) \n",
    "\n",
    "# 可視化ライブラリ\n",
    "import matplotlib.pyplot as plt\n",
    "from matplotlib import cm # colormap\n",
    "import seaborn as sns\n",
    "%matplotlib inline\n",
    "\n",
    "# pandasのwarningが邪魔なので\n",
    "import warnings\n",
    "warnings.filterwarnings('ignore')\n",
    "\n",
    "# options\n",
    "# pd.set_option('display.max_columns', 50)\n",
    "plt.style.use('ggplot')"
   ]
  },
  {
   "cell_type": "code",
   "execution_count": 3,
   "metadata": {
    "ExecuteTime": {
     "end_time": "2018-08-19T06:05:26.319386Z",
     "start_time": "2018-08-19T06:05:26.212636Z"
    }
   },
   "outputs": [
    {
     "data": {
      "image/png": "[encoded data removed]",
      "text/plain": [
       "<Figure size 432x288 with 1 Axes>"
      ]
     },
     "metadata": {},
     "output_type": "display_data"
    }
   ],
   "source": [
    "#学習データの読み込み\n",
    "train=np.loadtxt(\"../input/data3.csv\",delimiter=\",\",skiprows=1)\n",
    "train_x=train[:,0:2]\n",
    "train_y=train[:,2]\n",
    "#標準化\n",
    "mu=train_x.mean(axis=0)\n",
    "sigma=train_x.std(axis=0)\n",
    "def standardize(x):\n",
    "    return (x- mu) / sigma\n",
    "train_z=standardize(train_x)\n",
    "#プロット X1とX2\n",
    "plt.plot(train_z[train_y== 1 ,0], train_z[train_y==1 ,1], \"o\",label=\"y=1\")\n",
    "plt.plot(train_z[train_y== 0 ,0], train_z[train_y== 0 ,1], \"x\",label=\"y=0\")\n",
    "plt.legend(loc=\"upper right\")\n",
    "plt.xlabel(\"x1\")\n",
    "plt.ylabel(\"x2\")\n",
    "plt.show()"
   ]
  },
  {
   "cell_type": "code",
   "execution_count": 4,
   "metadata": {
    "ExecuteTime": {
     "end_time": "2018-08-19T06:05:26.325365Z",
     "start_time": "2018-08-19T06:05:26.320383Z"
    }
   },
   "outputs": [],
   "source": [
    "#パラメータの初期化\n",
    "np.random.seed(21)\n",
    "theta = np.random.rand(4)\n",
    "\n",
    "\n",
    "\n",
    "#x0とx3を加える\n",
    "def to_matrix(x):\n",
    "    x0=np.ones([x.shape[0],1])\n",
    "    #x3: x1の2乗と定義する\n",
    "    x3= x[:,0,np.newaxis] ** 2\n",
    "    return np.hstack([x0,x,x3])\n",
    "X=to_matrix(train_z)"
   ]
  },
  {
   "cell_type": "markdown",
   "metadata": {},
   "source": [
    "## 確率的勾配降下法"
   ]
  },
  {
   "cell_type": "code",
   "execution_count": 5,
   "metadata": {
    "ExecuteTime": {
     "end_time": "2018-08-19T06:05:27.094310Z",
     "start_time": "2018-08-19T06:05:26.490880Z"
    }
   },
   "outputs": [
    {
     "data": {
      "image/png": "[encoded data removed]",
      "text/plain": [
       "<Figure size 432x288 with 1 Axes>"
      ]
     },
     "metadata": {},
     "output_type": "display_data"
    }
   ],
   "source": [
    "def classify(x):\n",
    "    return np.where(f(x) >=0.5 ,1 ,0)\n",
    "\n",
    "#パラメータの初期化\n",
    "np.random.seed(22)\n",
    "theta = np.random.rand(4)\n",
    "\n",
    "#学習率\n",
    "ETA = 1e-3\n",
    "#繰り返し回数\n",
    "epoch=5000\n",
    "#シグモイド関数\n",
    "def f(x):\n",
    "    return 1 / (1 + np.exp(-np.dot(x,theta)))\n",
    "\n",
    "#学習\n",
    "for _ in range(epoch):\n",
    "    #確率的勾配降下法でパラメータを更新する\n",
    "    p =np.random.permutation(X.shape[0])\n",
    "    for x,y in zip(X[p,:],train_y[p]):\n",
    "        theta = theta - ETA * (f(x) -y) *x\n",
    "x1= np.linspace(-2,2,100)\n",
    "#プロット X1とX2\n",
    "plt.plot(train_z[train_y== 1 ,0], train_z[train_y==1 ,1], \"o\",label=\"y=1\")\n",
    "plt.plot(train_z[train_y== 0 ,0], train_z[train_y== 0 ,1], \"x\",label=\"y=0\")\n",
    "x2= -(theta[0] + theta[1]* x1 + theta[3] * x1 **2)/ theta[2]\n",
    "plt.plot(x1, x2,linestyle=\"dashed\",label=\"x2\")\n",
    "plt.legend(loc=\"upper right\")\n",
    "plt.xlabel(\"x1\")\n",
    "plt.ylabel(\"x2\")\n",
    "plt.show()"
   ]
  }
 ],
 "metadata": {
  "kernelspec": {
   "display_name": "Python 3",
   "language": "python",
   "name": "python3"
  },
  "language_info": {
   "codemirror_mode": {
    "name": "ipython",
    "version": 3
   },
   "file_extension": ".py",
   "mimetype": "text/x-python",
   "name": "python",
   "nbconvert_exporter": "python",
   "pygments_lexer": "ipython3",
   "version": "3.6.5"
  }
 },
 "nbformat": 4,
 "nbformat_minor": 2
}
