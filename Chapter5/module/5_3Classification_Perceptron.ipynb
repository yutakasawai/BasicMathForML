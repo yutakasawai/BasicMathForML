{
 "cells": [
  {
   "cell_type": "code",
   "execution_count": 1,
   "metadata": {
    "ExecuteTime": {
     "end_time": "2018-08-18T09:00:37.733258Z",
     "start_time": "2018-08-18T09:00:35.293235Z"
    }
   },
   "outputs": [
    {
     "data": {
      "text/html": [
       "<style>.container { width:100% !important; }</style>"
      ],
      "text/plain": [
       "<IPython.core.display.HTML object>"
      ]
     },
     "metadata": {},
     "output_type": "display_data"
    }
   ],
   "source": [
    "import collections\n",
    "import pathlib\n",
    "\n",
    "# データ処理周り\n",
    "import numpy as np\n",
    "import pandas as pd\n",
    "from IPython.core.display import display, HTML \n",
    "display(HTML(\"<style>.container { width:100% !important; }</style>\")) \n",
    "\n",
    "# 可視化ライブラリ\n",
    "import matplotlib.pyplot as plt\n",
    "from matplotlib import cm # colormap\n",
    "import seaborn as sns\n",
    "%matplotlib inline\n",
    "\n",
    "# pandasのwarningが邪魔なので\n",
    "import warnings\n",
    "warnings.filterwarnings('ignore')\n",
    "\n",
    "# options\n",
    "# pd.set_option('display.max_columns', 50)\n",
    "plt.style.use('ggplot')"
   ]
  },
  {
   "cell_type": "code",
   "execution_count": 38,
   "metadata": {
    "ExecuteTime": {
     "end_time": "2018-08-18T09:16:09.014213Z",
     "start_time": "2018-08-18T09:16:08.949400Z"
    }
   },
   "outputs": [
    {
     "data": {
      "image/png": "[encoded data removed]",
      "text/plain": [
       "<Figure size 432x288 with 1 Axes>"
      ]
     },
     "metadata": {},
     "output_type": "display_data"
    }
   ],
   "source": [
    "#学習データの読み込み\n",
    "train=np.loadtxt(\"../input/images1.csv\",delimiter=\",\",skiprows=1)\n",
    "train_x=train[:,0:2]\n",
    "train_y=train[:,2]\n",
    "#プロット X1とX2\n",
    "plt.plot(train_x[train_y== 1 ,0], train_x[train_y==1 ,1], \"o\")\n",
    "plt.plot(train_x[train_y== -1 ,0], train_x[train_y== -1 ,1], \"x\")\n",
    "plt.axis(\"scaled\")\n",
    "plt.xlabel(\"x1\")\n",
    "plt.ylabel(\"x2\")\n",
    "plt.show()"
   ]
  },
  {
   "cell_type": "markdown",
   "metadata": {
    "ExecuteTime": {
     "end_time": "2018-08-18T09:13:30.186499Z",
     "start_time": "2018-08-18T09:13:30.181512Z"
    }
   },
   "source": [
    "## パーセプトロンの実装"
   ]
  },
  {
   "cell_type": "code",
   "execution_count": 41,
   "metadata": {
    "ExecuteTime": {
     "end_time": "2018-08-18T09:38:19.677417Z",
     "start_time": "2018-08-18T09:38:19.651443Z"
    }
   },
   "outputs": [
    {
     "name": "stdout",
     "output_type": "stream",
     "text": [
      "1回目: w =[-152.582978   -431.27967551]\n",
      "2回目: w =[321.417022   -47.27967551]\n",
      "3回目: w =[  88.417022   -477.27967551]\n",
      "4回目: w =[ 484.417022   -156.27967551]\n",
      "5回目: w =[  85.417022   -589.27967551]\n",
      "6回目: w =[ 488.417022   -289.27967551]\n",
      "7回目: w =[ 109.417022   -705.27967551]\n",
      "8回目: w =[ 372.417022   -593.27967551]\n",
      "9回目: w =[ 846.417022   -209.27967551]\n",
      "10回目: w =[ 613.417022   -639.27967551]\n"
     ]
    }
   ],
   "source": [
    "#重みの初期化\n",
    "np.random.seed(1)\n",
    "w = np.random.rand(2)\n",
    "\n",
    "#識別関数\n",
    "def f(x):\n",
    "    if np.dot(w,x) >= 0:\n",
    "        return 1\n",
    "    else:\n",
    "        return -1\n",
    "#繰り返し回数\n",
    "epoch = 10\n",
    "\n",
    "#更新回数\n",
    "count = 0\n",
    "#重みの学習\n",
    "for _ in range(epoch):\n",
    "    for x , y in zip(train_x,train_y):\n",
    "        if f(x) != y:\n",
    "            w = w + y * x\n",
    "            #ログの出力\n",
    "            count +=1\n",
    "            print(\"{}回目: w ={}\".format(count,w))"
   ]
  },
  {
   "cell_type": "code",
   "execution_count": 45,
   "metadata": {
    "ExecuteTime": {
     "end_time": "2018-08-18T09:41:09.063292Z",
     "start_time": "2018-08-18T09:41:08.988833Z"
    }
   },
   "outputs": [
    {
     "data": {
      "image/png": "[encoded data removed]",
      "text/plain": [
       "<Figure size 432x288 with 1 Axes>"
      ]
     },
     "metadata": {},
     "output_type": "display_data"
    }
   ],
   "source": [
    "x1=np.arange(0,500)\n",
    "plt.plot(train_x[train_y== 1 ,0], train_x[train_y==1 ,1], \"o\")\n",
    "plt.plot(train_x[train_y== -1 ,0], train_x[train_y== -1 ,1], \"x\")\n",
    "x2 = -w[0]/w[1] *x1\n",
    "plt.plot(x1, x2 ,linestyle=\"dashed\")\n",
    "plt.axis(\"scaled\")\n",
    "plt.xlabel(\"x1\")\n",
    "plt.ylabel(\"x2\")\n",
    "plt.show()"
   ]
  },
  {
   "cell_type": "markdown",
   "metadata": {
    "ExecuteTime": {
     "end_time": "2018-08-18T09:38:49.985868Z",
     "start_time": "2018-08-18T09:38:49.981879Z"
    }
   },
   "source": [
    "## 検証"
   ]
  },
  {
   "cell_type": "code",
   "execution_count": 48,
   "metadata": {
    "ExecuteTime": {
     "end_time": "2018-08-18T09:42:33.090155Z",
     "start_time": "2018-08-18T09:42:33.087163Z"
    }
   },
   "outputs": [
    {
     "name": "stdout",
     "output_type": "stream",
     "text": [
      "1\n",
      "-1\n"
     ]
    }
   ],
   "source": [
    "print(f([200,100]))\n",
    "print(f([100,200]))"
   ]
  },
  {
   "cell_type": "code",
   "execution_count": null,
   "metadata": {},
   "outputs": [],
   "source": []
  }
 ],
 "metadata": {
  "kernelspec": {
   "display_name": "Python 3",
   "language": "python",
   "name": "python3"
  },
  "language_info": {
   "codemirror_mode": {
    "name": "ipython",
    "version": 3
   },
   "file_extension": ".py",
   "mimetype": "text/x-python",
   "name": "python",
   "nbconvert_exporter": "python",
   "pygments_lexer": "ipython3",
   "version": "3.6.5"
  }
 },
 "nbformat": 4,
 "nbformat_minor": 2
}
