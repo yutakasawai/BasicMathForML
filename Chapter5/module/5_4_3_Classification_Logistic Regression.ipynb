{
 "cells": [
  {
   "cell_type": "code",
   "execution_count": 1,
   "metadata": {
    "ExecuteTime": {
     "end_time": "2018-08-18T11:51:10.562097Z",
     "start_time": "2018-08-18T11:51:08.476626Z"
    }
   },
   "outputs": [
    {
     "data": {
      "text/html": [
       "<style>.container { width:100% !important; }</style>"
      ],
      "text/plain": [
       "<IPython.core.display.HTML object>"
      ]
     },
     "metadata": {},
     "output_type": "display_data"
    }
   ],
   "source": [
    "import collections\n",
    "import pathlib\n",
    "\n",
    "# データ処理周り\n",
    "import numpy as np\n",
    "import pandas as pd\n",
    "from IPython.core.display import display, HTML \n",
    "display(HTML(\"<style>.container { width:100% !important; }</style>\")) \n",
    "\n",
    "# 可視化ライブラリ\n",
    "import matplotlib.pyplot as plt\n",
    "from matplotlib import cm # colormap\n",
    "import seaborn as sns\n",
    "%matplotlib inline\n",
    "\n",
    "# pandasのwarningが邪魔なので\n",
    "import warnings\n",
    "warnings.filterwarnings('ignore')\n",
    "\n",
    "# options\n",
    "# pd.set_option('display.max_columns', 50)\n",
    "plt.style.use('ggplot')"
   ]
  },
  {
   "cell_type": "code",
   "execution_count": 64,
   "metadata": {
    "ExecuteTime": {
     "end_time": "2018-08-18T12:25:09.014070Z",
     "start_time": "2018-08-18T12:25:08.920288Z"
    }
   },
   "outputs": [
    {
     "data": {
      "image/png": "[encoded data removed]",
      "text/plain": [
       "<Figure size 432x288 with 1 Axes>"
      ]
     },
     "metadata": {},
     "output_type": "display_data"
    }
   ],
   "source": [
    "#学習データの読み込み\n",
    "train=np.loadtxt(\"../input/images2.csv\",delimiter=\",\",skiprows=1)\n",
    "train_x=train[:,0:2]\n",
    "train_y=train[:,2]\n",
    "\n",
    "#パラメータの初期化\n",
    "np.random.seed(20)\n",
    "theta = np.random.rand(3)\n",
    "\n",
    "#標準化\n",
    "mu=train_x.mean(axis=0)\n",
    "sigma=train_x.std(axis=0)\n",
    "def standardize(x):\n",
    "    return (x- mu) / sigma\n",
    "train_z=standardize(train_x)\n",
    "\n",
    "#x0を加える\n",
    "def to_matrix(x):\n",
    "    x0=np.ones([x.shape[0],1])\n",
    "    return np.hstack([x0,x])\n",
    "X=to_matrix(train_z)\n",
    "\n",
    "#プロット X1とX2\n",
    "plt.plot(train_z[train_y== 1 ,0], train_z[train_y==1 ,1], \"o\",label=\"y=1\")\n",
    "plt.plot(train_z[train_y== 0 ,0], train_z[train_y== 0 ,1], \"x\",label=\"y=0\")\n",
    "plt.legend(loc=\"upper right\")\n",
    "plt.xlabel(\"x1\")\n",
    "plt.ylabel(\"x2\")\n",
    "plt.show()"
   ]
  },
  {
   "cell_type": "markdown",
   "metadata": {
    "ExecuteTime": {
     "end_time": "2018-08-18T09:13:30.186499Z",
     "start_time": "2018-08-18T09:13:30.181512Z"
    }
   },
   "source": [
    "## シグモイド関数"
   ]
  },
  {
   "cell_type": "code",
   "execution_count": 67,
   "metadata": {
    "ExecuteTime": {
     "end_time": "2018-08-18T12:25:15.710132Z",
     "start_time": "2018-08-18T12:25:15.706143Z"
    }
   },
   "outputs": [],
   "source": [
    "def f(x):\n",
    "    return 1 / (1 + np.exp(-np.dot(x,theta)))"
   ]
  },
  {
   "cell_type": "code",
   "execution_count": 70,
   "metadata": {
    "ExecuteTime": {
     "end_time": "2018-08-18T12:25:22.098765Z",
     "start_time": "2018-08-18T12:25:21.962129Z"
    }
   },
   "outputs": [
    {
     "data": {
      "image/png": "[encoded data removed]",
      "text/plain": [
       "<Figure size 432x288 with 1 Axes>"
      ]
     },
     "metadata": {},
     "output_type": "display_data"
    }
   ],
   "source": [
    "#学習率\n",
    "ETA = 1e-3\n",
    "#繰り返し回数\n",
    "epoch=5000\n",
    "#学習\n",
    "for _ in range(epoch):\n",
    "    theta = theta - ETA* np.dot(f(X) - train_y, X)\n",
    "x0= np.linspace(-2,2,100)\n",
    "#プロット X1とX2\n",
    "plt.plot(train_z[train_y== 1 ,0], train_z[train_y==1 ,1], \"o\",label=\"y=1\")\n",
    "plt.plot(train_z[train_y== 0 ,0], train_z[train_y== 0 ,1], \"x\",label=\"y=0\")\n",
    "x2= -(theta[0] + theta[1]* x0)/ theta[2]\n",
    "plt.plot(x0, x2,linestyle=\"dashed\",label=\"x2\")\n",
    "\n",
    "plt.legend(loc=\"upper right\")\n",
    "plt.xlabel(\"x1\")\n",
    "plt.ylabel(\"x2\")\n",
    "plt.show()"
   ]
  },
  {
   "cell_type": "code",
   "execution_count": 92,
   "metadata": {
    "ExecuteTime": {
     "end_time": "2018-08-18T12:30:40.142231Z",
     "start_time": "2018-08-18T12:30:40.137245Z"
    }
   },
   "outputs": [
    {
     "data": {
      "text/plain": [
       "array([1, 0])"
      ]
     },
     "execution_count": 92,
     "metadata": {},
     "output_type": "execute_result"
    }
   ],
   "source": [
    "#検証\n",
    "def classify(x):\n",
    "    return np.where(f(x) >=0.5 ,1 ,0)\n",
    "classify(to_matrix(standardize(\n",
    "    [[200,100],[100,200]\n",
    "    ])))"
   ]
  }
 ],
 "metadata": {
  "kernelspec": {
   "display_name": "Python 3",
   "language": "python",
   "name": "python3"
  },
  "language_info": {
   "codemirror_mode": {
    "name": "ipython",
    "version": 3
   },
   "file_extension": ".py",
   "mimetype": "text/x-python",
   "name": "python",
   "nbconvert_exporter": "python",
   "pygments_lexer": "ipython3",
   "version": "3.6.5"
  }
 },
 "nbformat": 4,
 "nbformat_minor": 2
}
