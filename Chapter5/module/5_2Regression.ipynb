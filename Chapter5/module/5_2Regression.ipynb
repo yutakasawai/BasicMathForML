{
 "cells": [
  {
   "cell_type": "code",
   "execution_count": 1,
   "metadata": {
    "ExecuteTime": {
     "end_time": "2018-08-17T13:40:24.994115Z",
     "start_time": "2018-08-17T13:40:22.030898Z"
    }
   },
   "outputs": [
    {
     "data": {
      "text/html": [
       "<style>.container { width:100% !important; }</style>"
      ],
      "text/plain": [
       "<IPython.core.display.HTML object>"
      ]
     },
     "metadata": {},
     "output_type": "display_data"
    }
   ],
   "source": [
    "import collections\n",
    "import pathlib\n",
    "\n",
    "# データ処理周り\n",
    "import numpy as np\n",
    "import pandas as pd\n",
    "from IPython.core.display import display, HTML \n",
    "display(HTML(\"<style>.container { width:100% !important; }</style>\")) \n",
    "\n",
    "# 可視化ライブラリ\n",
    "import matplotlib.pyplot as plt\n",
    "from matplotlib import cm # colormap\n",
    "import seaborn as sns\n",
    "%matplotlib inline\n",
    "\n",
    "# pandasのwarningが邪魔なので\n",
    "import warnings\n",
    "warnings.filterwarnings('ignore')\n",
    "\n",
    "# options\n",
    "# pd.set_option('display.max_columns', 50)\n",
    "plt.style.use('ggplot')"
   ]
  },
  {
   "cell_type": "markdown",
   "metadata": {},
   "source": [
    "## 2-1 学習データの確認"
   ]
  },
  {
   "cell_type": "code",
   "execution_count": 2,
   "metadata": {
    "ExecuteTime": {
     "end_time": "2018-08-17T13:40:25.178656Z",
     "start_time": "2018-08-17T13:40:24.995111Z"
    }
   },
   "outputs": [
    {
     "data": {
      "image/png": "[encoded data removed]",
      "text/plain": [
       "<Figure size 432x288 with 1 Axes>"
      ]
     },
     "metadata": {},
     "output_type": "display_data"
    }
   ],
   "source": [
    "train=pd.read_csv('../input/click.csv')\n",
    "train_x=train[\"x\"]\n",
    "train_y=train[\"y\"]\n",
    "plt.plot(train_x,train_y,\"o\")\n",
    "plt.show()"
   ]
  },
  {
   "cell_type": "markdown",
   "metadata": {},
   "source": [
    "## 2-2 1次関数として実装"
   ]
  },
  {
   "cell_type": "code",
   "execution_count": 3,
   "metadata": {
    "ExecuteTime": {
     "end_time": "2018-08-17T13:40:25.185601Z",
     "start_time": "2018-08-17T13:40:25.180616Z"
    }
   },
   "outputs": [],
   "source": [
    "#乱数を固定\n",
    "SEED=2018\n",
    "np.random.seed(SEED)\n",
    "#パラメータを初期化\n",
    "theta0=np.random.rand()\n",
    "theta1=np.random.rand()\n",
    "#予測関数 \n",
    "def f(x):\n",
    "    return theta0 + theta1 * x\n",
    "#目的関数 最小二乗法\n",
    "def E(x,y):\n",
    "    return 0.5 * np.sum((y-f(x)) ** 2)"
   ]
  },
  {
   "cell_type": "markdown",
   "metadata": {},
   "source": [
    "## 2-3 インタラクティブシェルで実行"
   ]
  },
  {
   "cell_type": "code",
   "execution_count": 4,
   "metadata": {
    "ExecuteTime": {
     "end_time": "2018-08-17T13:40:25.218515Z",
     "start_time": "2018-08-17T13:40:25.186601Z"
    }
   },
   "outputs": [],
   "source": [
    "#標準化\n",
    "mu=train_x.mean()\n",
    "sigma=train_x.std()\n",
    "def standardize(x):\n",
    "    return (x-mu) / sigma\n",
    "train_z=standardize(train_x)"
   ]
  },
  {
   "cell_type": "markdown",
   "metadata": {},
   "source": [
    "## 2-4 インタラクティブシェルで実行"
   ]
  },
  {
   "cell_type": "code",
   "execution_count": 5,
   "metadata": {
    "ExecuteTime": {
     "end_time": "2018-08-17T13:40:25.909178Z",
     "start_time": "2018-08-17T13:40:25.822898Z"
    }
   },
   "outputs": [
    {
     "data": {
      "image/png": "[encoded data removed]",
      "text/plain": [
       "<Figure size 432x288 with 1 Axes>"
      ]
     },
     "metadata": {},
     "output_type": "display_data"
    }
   ],
   "source": [
    "plt.plot(train_z,train_y,\"o\")\n",
    "plt.show()"
   ]
  },
  {
   "cell_type": "markdown",
   "metadata": {},
   "source": [
    "## 2-5"
   ]
  },
  {
   "cell_type": "code",
   "execution_count": 6,
   "metadata": {
    "ExecuteTime": {
     "end_time": "2018-08-17T13:40:26.916042Z",
     "start_time": "2018-08-17T13:40:26.411389Z"
    }
   },
   "outputs": [
    {
     "name": "stdout",
     "output_type": "stream",
     "text": [
      "1回目: theta0= 9.448,theta1= 1.925,差分=75913.4691\n",
      "2回目: theta0= 17.842,theta1= 3.710,差分=72913.7314\n",
      "3回目: theta0= 26.068,theta1= 5.462,差分=70032.5411\n",
      "4回目: theta0= 34.130,theta1= 7.180,差分=67265.2129\n",
      "5回目: theta0= 42.030,theta1= 8.866,差分=64607.2465\n",
      "6回目: theta0= 49.772,theta1= 10.520,差分=62054.3196\n",
      "7回目: theta0= 57.360,theta1= 12.142,差分=59602.2809\n",
      "8回目: theta0= 64.796,theta1= 13.734,差分=57247.1430\n",
      "9回目: theta0= 72.083,theta1= 15.295,差分=54985.0761\n",
      "10回目: theta0= 79.224,theta1= 16.827,差分=52812.4019\n",
      "11回目: theta0= 86.223,theta1= 18.329,差分=50725.5873\n",
      "12回目: theta0= 93.081,theta1= 19.803,差分=48721.2391\n",
      "13回目: theta0= 99.803,theta1= 21.249,差分=46796.0981\n",
      "14回目: theta0= 106.390,theta1= 22.668,差分=44947.0338\n",
      "15回目: theta0= 112.845,theta1= 24.059,差分=43171.0396\n",
      "16回目: theta0= 119.171,theta1= 25.424,差分=41465.2276\n",
      "17回目: theta0= 125.370,theta1= 26.764,差分=39826.8242\n",
      "18回目: theta0= 131.446,theta1= 28.077,差分=38253.1654\n",
      "19回目: theta0= 137.400,theta1= 29.366,差分=36741.6924\n",
      "20回目: theta0= 143.235,theta1= 30.630,差分=35289.9475\n",
      "21回目: theta0= 148.953,theta1= 31.871,差分=33895.5702\n",
      "22回目: theta0= 154.557,theta1= 33.087,差分=32556.2935\n",
      "23回目: theta0= 160.049,theta1= 34.281,差分=31269.9396\n",
      "24回目: theta0= 165.431,theta1= 35.452,差分=30034.4172\n",
      "25回目: theta0= 170.706,theta1= 36.601,差分=28847.7173\n",
      "26回目: theta0= 175.874,theta1= 37.727,差分=27707.9104\n",
      "27回目: theta0= 180.940,theta1= 38.833,差分=26613.1435\n",
      "28回目: theta0= 185.904,theta1= 39.917,差分=25561.6365\n",
      "29回目: theta0= 190.769,theta1= 40.981,差分=24551.6798\n",
      "30回目: theta0= 195.537,theta1= 42.025,差分=23581.6314\n",
      "31回目: theta0= 200.209,theta1= 43.048,差分=22649.9143\n",
      "32回目: theta0= 204.788,theta1= 44.053,差分=21755.0135\n",
      "33回目: theta0= 209.275,theta1= 45.038,差分=20895.4741\n",
      "34回目: theta0= 213.673,theta1= 46.004,差分=20069.8988\n",
      "35回目: theta0= 217.982,theta1= 46.953,差分=19276.9453\n",
      "36回目: theta0= 222.205,theta1= 47.883,差分=18515.3244\n",
      "37回目: theta0= 226.344,theta1= 48.795,差分=17783.7980\n",
      "38回目: theta0= 230.400,theta1= 49.690,差分=17081.1768\n",
      "39回目: theta0= 234.375,theta1= 50.568,差分=16406.3186\n",
      "40回目: theta0= 238.271,theta1= 51.430,差分=15758.1261\n",
      "41回目: theta0= 242.089,theta1= 52.275,差分=15135.5457\n",
      "42回目: theta0= 245.830,theta1= 53.104,差分=14537.5652\n",
      "43回目: theta0= 249.496,theta1= 53.917,差分=13963.2125\n",
      "44回目: theta0= 253.089,theta1= 54.715,差分=13411.5540\n",
      "45回目: theta0= 256.610,theta1= 55.498,差分=12881.6928\n",
      "46回目: theta0= 260.061,theta1= 56.265,差分=12372.7675\n",
      "47回目: theta0= 263.443,theta1= 57.019,差分=11883.9509\n",
      "48回目: theta0= 266.757,theta1= 57.758,差分=11414.4484\n",
      "49回目: theta0= 270.005,theta1= 58.482,差分=10963.4967\n",
      "50回目: theta0= 273.188,theta1= 59.193,差分=10530.3627\n",
      "51回目: theta0= 276.307,theta1= 59.891,差分=10114.3425\n",
      "52回目: theta0= 279.364,theta1= 60.575,差分=9714.7596\n",
      "53回目: theta0= 282.360,theta1= 61.247,差分=9330.9647\n",
      "54回目: theta0= 285.296,theta1= 61.905,差分=8962.3339\n",
      "55回目: theta0= 288.173,theta1= 62.551,差分=8608.2678\n",
      "56回目: theta0= 290.992,theta1= 63.185,差分=8268.1911\n",
      "57回目: theta0= 293.755,theta1= 63.807,差分=7941.5509\n",
      "58回目: theta0= 296.463,theta1= 64.417,差分=7627.8163\n",
      "59回目: theta0= 299.117,theta1= 65.015,差分=7326.4773\n",
      "60回目: theta0= 301.718,theta1= 65.602,差分=7037.0441\n",
      "61回目: theta0= 304.266,theta1= 66.178,差分=6759.0464\n",
      "62回目: theta0= 306.764,theta1= 66.743,差分=6492.0321\n",
      "63回目: theta0= 309.212,theta1= 67.297,差分=6235.5674\n",
      "64回目: theta0= 311.610,theta1= 67.840,差分=5989.2353\n",
      "65回目: theta0= 313.961,theta1= 68.374,差分=5752.6356\n",
      "66回目: theta0= 316.265,theta1= 68.897,差分=5525.3836\n",
      "67回目: theta0= 318.523,theta1= 69.410,差分=5307.1100\n",
      "68回目: theta0= 320.735,theta1= 69.913,差分=5097.4600\n",
      "69回目: theta0= 322.904,theta1= 70.407,差分=4896.0929\n",
      "70回目: theta0= 325.028,theta1= 70.892,差分=4702.6814\n",
      "71回目: theta0= 327.111,theta1= 71.367,差分=4516.9112\n",
      "72回目: theta0= 329.152,theta1= 71.833,差分=4338.4803\n",
      "73回目: theta0= 331.152,theta1= 72.291,差分=4167.0987\n",
      "74回目: theta0= 333.112,theta1= 72.739,差分=4002.4880\n",
      "75回目: theta0= 335.032,theta1= 73.180,差分=3844.3806\n",
      "76回目: theta0= 336.915,theta1= 73.611,差分=3692.5195\n",
      "77回目: theta0= 338.759,theta1= 74.035,差分=3546.6579\n",
      "78回目: theta0= 340.567,theta1= 74.451,差分=3406.5588\n",
      "79回目: theta0= 342.339,theta1= 74.858,差分=3271.9945\n",
      "80回目: theta0= 344.075,theta1= 75.258,差分=3142.7464\n",
      "81回目: theta0= 345.777,theta1= 75.651,差分=3018.6043\n",
      "82回目: theta0= 347.444,theta1= 76.035,差分=2899.3665\n",
      "83回目: theta0= 349.078,theta1= 76.413,差分=2784.8393\n",
      "84回目: theta0= 350.680,theta1= 76.783,差分=2674.8366\n",
      "85回目: theta0= 352.249,theta1= 77.147,差分=2569.1795\n",
      "86回目: theta0= 353.787,theta1= 77.503,差分=2467.6965\n",
      "87回目: theta0= 355.294,theta1= 77.853,差分=2370.2225\n",
      "88回目: theta0= 356.771,theta1= 78.196,差分=2276.5992\n",
      "89回目: theta0= 358.219,theta1= 78.532,差分=2186.6744\n",
      "90回目: theta0= 359.638,theta1= 78.863,差分=2100.3021\n",
      "91回目: theta0= 361.028,theta1= 79.186,差分=2017.3418\n",
      "92回目: theta0= 362.390,theta1= 79.504,差分=1937.6588\n",
      "93回目: theta0= 363.726,theta1= 79.816,差分=1861.1235\n",
      "94回目: theta0= 365.034,theta1= 80.121,差分=1787.6117\n",
      "95回目: theta0= 366.316,theta1= 80.421,差分=1717.0038\n",
      "96回目: theta0= 367.573,theta1= 80.716,差分=1649.1852\n",
      "97回目: theta0= 368.805,theta1= 81.004,差分=1584.0456\n",
      "98回目: theta0= 370.011,theta1= 81.287,差分=1521.4792\n",
      "99回目: theta0= 371.194,theta1= 81.565,差分=1461.3844\n",
      "100回目: theta0= 372.353,theta1= 81.838,差分=1403.6635\n",
      "101回目: theta0= 373.489,theta1= 82.105,差分=1348.2226\n",
      "102回目: theta0= 374.602,theta1= 82.367,差分=1294.9718\n",
      "103回目: theta0= 375.693,theta1= 82.624,差分=1243.8245\n",
      "104回目: theta0= 376.763,theta1= 82.877,差分=1194.6976\n",
      "105回目: theta0= 377.810,theta1= 83.124,差分=1147.5113\n",
      "106回目: theta0= 378.837,theta1= 83.367,差分=1102.1889\n",
      "107回目: theta0= 379.843,theta1= 83.606,差分=1058.6568\n",
      "108回目: theta0= 380.829,theta1= 83.839,差分=1016.8442\n",
      "109回目: theta0= 381.796,theta1= 84.069,差分=976.6833\n",
      "110回目: theta0= 382.743,theta1= 84.294,差分=938.1088\n",
      "111回目: theta0= 383.671,theta1= 84.514,差分=901.0579\n",
      "112回目: theta0= 384.581,theta1= 84.731,差分=865.4706\n",
      "113回目: theta0= 385.472,theta1= 84.943,差分=831.2890\n",
      "114回目: theta0= 386.346,theta1= 85.151,差分=798.4575\n",
      "115回目: theta0= 387.202,theta1= 85.356,差分=766.9229\n",
      "116回目: theta0= 388.041,theta1= 85.556,差分=736.6339\n",
      "117回目: theta0= 388.863,theta1= 85.753,差分=707.5413\n",
      "118回目: theta0= 389.669,theta1= 85.946,差分=679.5978\n",
      "119回目: theta0= 390.458,theta1= 86.135,差分=652.7580\n",
      "120回目: theta0= 391.232,theta1= 86.321,差分=626.9783\n",
      "121回目: theta0= 391.990,theta1= 86.503,差分=602.2170\n",
      "122回目: theta0= 392.734,theta1= 86.682,差分=578.4336\n",
      "123回目: theta0= 393.462,theta1= 86.857,差分=555.5897\n",
      "124回目: theta0= 394.176,theta1= 87.029,差分=533.6480\n",
      "125回目: theta0= 394.875,theta1= 87.197,差分=512.5730\n",
      "126回目: theta0= 395.561,theta1= 87.363,差分=492.3303\n",
      "127回目: theta0= 396.232,theta1= 87.525,差分=472.8873\n",
      "128回目: theta0= 396.891,theta1= 87.685,差分=454.2121\n",
      "129回目: theta0= 397.536,theta1= 87.841,差分=436.2746\n",
      "130回目: theta0= 398.168,theta1= 87.994,差分=419.0455\n",
      "131回目: theta0= 398.788,theta1= 88.144,差分=402.4969\n",
      "132回目: theta0= 399.395,theta1= 88.292,差分=386.6020\n",
      "133回目: theta0= 399.990,theta1= 88.437,差分=371.3348\n",
      "134回目: theta0= 400.573,theta1= 88.579,差分=356.6706\n",
      "135回目: theta0= 401.145,theta1= 88.718,差分=342.5856\n",
      "136回目: theta0= 401.705,theta1= 88.854,差分=329.0568\n",
      "137回目: theta0= 402.254,theta1= 88.988,差分=316.0624\n",
      "138回目: theta0= 402.792,theta1= 89.120,差分=303.5812\n",
      "139回目: theta0= 403.319,theta1= 89.249,差分=291.5930\n",
      "140回目: theta0= 403.836,theta1= 89.375,差分=280.0782\n",
      "141回目: theta0= 404.342,theta1= 89.499,差分=269.0182\n",
      "142回目: theta0= 404.838,theta1= 89.621,差分=258.3950\n",
      "143回目: theta0= 405.324,theta1= 89.741,差分=248.1913\n",
      "144回目: theta0= 405.801,theta1= 89.858,差分=238.3907\n",
      "145回目: theta0= 406.268,theta1= 89.973,差分=228.9771\n",
      "146回目: theta0= 406.726,theta1= 90.085,差分=219.9352\n",
      "147回目: theta0= 407.174,theta1= 90.196,差分=211.2505\n",
      "148回目: theta0= 407.614,theta1= 90.305,差分=202.9087\n",
      "149回目: theta0= 408.044,theta1= 90.411,差分=194.8964\n",
      "150回目: theta0= 408.466,theta1= 90.515,差分=187.2005\n",
      "151回目: theta0= 408.880,theta1= 90.618,差分=179.8086\n",
      "152回目: theta0= 409.285,theta1= 90.718,差分=172.7085\n",
      "153回目: theta0= 409.683,theta1= 90.817,差分=165.8889\n",
      "154回目: theta0= 410.072,theta1= 90.914,差分=159.3386\n",
      "155回目: theta0= 410.454,theta1= 91.009,差分=153.0469\n",
      "156回目: theta0= 410.828,theta1= 91.102,差分=147.0038\n",
      "157回目: theta0= 411.194,theta1= 91.193,差分=141.1992\n",
      "158回目: theta0= 411.553,theta1= 91.283,差分=135.6239\n",
      "159回目: theta0= 411.905,theta1= 91.370,差分=130.2688\n",
      "160回目: theta0= 412.250,theta1= 91.457,差分=125.1252\n",
      "161回目: theta0= 412.588,theta1= 91.541,差分=120.1846\n",
      "162回目: theta0= 412.919,theta1= 91.624,差分=115.4392\n",
      "163回目: theta0= 413.244,theta1= 91.705,差分=110.8812\n",
      "164回目: theta0= 413.562,theta1= 91.785,差分=106.5032\n",
      "165回目: theta0= 413.874,theta1= 91.864,差分=102.2980\n",
      "166回目: theta0= 414.179,theta1= 91.940,差分=98.2589\n",
      "167回目: theta0= 414.479,theta1= 92.016,差分=94.3793\n",
      "168回目: theta0= 414.772,theta1= 92.090,差分=90.6530\n",
      "169回目: theta0= 415.060,theta1= 92.162,差分=87.0737\n",
      "170回目: theta0= 415.341,theta1= 92.233,差分=83.6358\n",
      "171回目: theta0= 415.618,theta1= 92.303,差分=80.3337\n",
      "172回目: theta0= 415.888,theta1= 92.372,差分=77.1619\n",
      "173回目: theta0= 416.154,theta1= 92.439,差分=74.1154\n",
      "174回目: theta0= 416.413,theta1= 92.505,差分=71.1892\n",
      "175回目: theta0= 416.668,theta1= 92.569,差分=68.3786\n",
      "176回目: theta0= 416.918,theta1= 92.633,差分=65.6789\n",
      "177回目: theta0= 417.162,theta1= 92.695,差分=63.0858\n",
      "178回目: theta0= 417.402,theta1= 92.756,差分=60.5951\n",
      "179回目: theta0= 417.637,theta1= 92.816,差分=58.2028\n",
      "180回目: theta0= 417.867,theta1= 92.875,差分=55.9049\n",
      "181回目: theta0= 418.093,theta1= 92.932,差分=53.6978\n",
      "182回目: theta0= 418.314,theta1= 92.989,差分=51.5778\n",
      "183回目: theta0= 418.531,theta1= 93.044,差分=49.5415\n",
      "184回目: theta0= 418.743,theta1= 93.099,差分=47.5857\n",
      "185回目: theta0= 418.951,theta1= 93.152,差分=45.7070\n",
      "186回目: theta0= 419.155,theta1= 93.204,差分=43.9025\n",
      "187回目: theta0= 419.355,theta1= 93.256,差分=42.1693\n",
      "188回目: theta0= 419.551,theta1= 93.306,差分=40.5045\n",
      "189回目: theta0= 419.743,theta1= 93.356,差分=38.9055\n",
      "190回目: theta0= 419.931,theta1= 93.404,差分=37.3696\n",
      "191回目: theta0= 420.116,theta1= 93.452,差分=35.8943\n",
      "192回目: theta0= 420.296,theta1= 93.498,差分=34.4773\n",
      "193回目: theta0= 420.473,theta1= 93.544,差分=33.1162\n",
      "194回目: theta0= 420.647,theta1= 93.589,差分=31.8089\n",
      "195回目: theta0= 420.817,theta1= 93.633,差分=30.5532\n",
      "196回目: theta0= 420.984,theta1= 93.676,差分=29.3470\n",
      "197回目: theta0= 421.147,theta1= 93.719,差分=28.1885\n",
      "198回目: theta0= 421.307,theta1= 93.760,差分=27.0757\n",
      "199回目: theta0= 421.464,theta1= 93.801,差分=26.0069\n",
      "200回目: theta0= 421.618,theta1= 93.841,差分=24.9803\n",
      "201回目: theta0= 421.768,theta1= 93.880,差分=23.9942\n",
      "202回目: theta0= 421.916,theta1= 93.919,差分=23.0470\n",
      "203回目: theta0= 422.061,theta1= 93.957,差分=22.1372\n",
      "204回目: theta0= 422.202,theta1= 93.994,差分=21.2633\n",
      "205回目: theta0= 422.341,theta1= 94.030,差分=20.4240\n",
      "206回目: theta0= 422.478,theta1= 94.066,差分=19.6178\n",
      "207回目: theta0= 422.611,theta1= 94.101,差分=18.8434\n",
      "208回目: theta0= 422.742,theta1= 94.135,差分=18.0995\n",
      "209回目: theta0= 422.870,theta1= 94.169,差分=17.3851\n",
      "210回目: theta0= 422.996,theta1= 94.202,差分=16.6988\n",
      "211回目: theta0= 423.119,theta1= 94.234,差分=16.0397\n",
      "212回目: theta0= 423.239,theta1= 94.266,差分=15.4066\n",
      "213回目: theta0= 423.357,theta1= 94.297,差分=14.7984\n",
      "214回目: theta0= 423.473,theta1= 94.328,差分=14.2143\n",
      "215回目: theta0= 423.587,theta1= 94.358,差分=13.6532\n",
      "216回目: theta0= 423.698,theta1= 94.387,差分=13.1143\n",
      "217回目: theta0= 423.807,theta1= 94.416,差分=12.5967\n",
      "218回目: theta0= 423.914,theta1= 94.444,差分=12.0995\n",
      "219回目: theta0= 424.019,theta1= 94.472,差分=11.6219\n",
      "220回目: theta0= 424.121,theta1= 94.499,差分=11.1632\n",
      "221回目: theta0= 424.222,theta1= 94.526,差分=10.7225\n",
      "222回目: theta0= 424.320,theta1= 94.552,差分=10.2993\n",
      "223回目: theta0= 424.417,theta1= 94.578,差分=9.8928\n",
      "224回目: theta0= 424.512,theta1= 94.603,差分=9.5023\n",
      "225回目: theta0= 424.604,theta1= 94.628,差分=9.1273\n",
      "226回目: theta0= 424.695,theta1= 94.652,差分=8.7670\n",
      "227回目: theta0= 424.784,theta1= 94.676,差分=8.4210\n",
      "228回目: theta0= 424.872,theta1= 94.700,差分=8.0886\n",
      "229回目: theta0= 424.957,theta1= 94.723,差分=7.7694\n",
      "230回目: theta0= 425.041,theta1= 94.745,差分=7.4627\n",
      "231回目: theta0= 425.123,theta1= 94.767,差分=7.1682\n",
      "232回目: theta0= 425.204,theta1= 94.789,差分=6.8853\n",
      "233回目: theta0= 425.283,theta1= 94.810,差分=6.6135\n",
      "234回目: theta0= 425.360,theta1= 94.831,差分=6.3525\n",
      "235回目: theta0= 425.436,theta1= 94.851,差分=6.1018\n",
      "236回目: theta0= 425.510,theta1= 94.871,差分=5.8610\n",
      "237回目: theta0= 425.583,theta1= 94.891,差分=5.6297\n",
      "238回目: theta0= 425.654,theta1= 94.910,差分=5.4075\n",
      "239回目: theta0= 425.724,theta1= 94.929,差分=5.1941\n",
      "240回目: theta0= 425.793,theta1= 94.948,差分=4.9891\n",
      "241回目: theta0= 425.860,theta1= 94.966,差分=4.7922\n",
      "242回目: theta0= 425.926,theta1= 94.984,差分=4.6031\n",
      "243回目: theta0= 425.990,theta1= 95.002,差分=4.4214\n",
      "244回目: theta0= 426.053,theta1= 95.019,差分=4.2469\n",
      "245回目: theta0= 426.115,theta1= 95.036,差分=4.0793\n",
      "246回目: theta0= 426.176,theta1= 95.052,差分=3.9183\n",
      "247回目: theta0= 426.236,theta1= 95.068,差分=3.7637\n",
      "248回目: theta0= 426.294,theta1= 95.084,差分=3.6152\n",
      "249回目: theta0= 426.351,theta1= 95.100,差分=3.4725\n",
      "250回目: theta0= 426.407,theta1= 95.115,差分=3.3355\n",
      "251回目: theta0= 426.462,theta1= 95.130,差分=3.2038\n",
      "252回目: theta0= 426.516,theta1= 95.145,差分=3.0774\n",
      "253回目: theta0= 426.568,theta1= 95.160,差分=2.9560\n",
      "254回目: theta0= 426.620,theta1= 95.174,差分=2.8393\n",
      "255回目: theta0= 426.670,theta1= 95.188,差分=2.7273\n",
      "256回目: theta0= 426.720,theta1= 95.201,差分=2.6196\n",
      "257回目: theta0= 426.769,theta1= 95.215,差分=2.5163\n",
      "258回目: theta0= 426.816,theta1= 95.228,差分=2.4170\n",
      "259回目: theta0= 426.863,theta1= 95.241,差分=2.3216\n",
      "260回目: theta0= 426.909,theta1= 95.254,差分=2.2300\n",
      "261回目: theta0= 426.954,theta1= 95.266,差分=2.1420\n",
      "262回目: theta0= 426.997,theta1= 95.278,差分=2.0575\n",
      "263回目: theta0= 427.041,theta1= 95.290,差分=1.9763\n",
      "264回目: theta0= 427.083,theta1= 95.302,差分=1.8983\n",
      "265回目: theta0= 427.124,theta1= 95.313,差分=1.8234\n",
      "266回目: theta0= 427.165,theta1= 95.325,差分=1.7514\n",
      "267回目: theta0= 427.204,theta1= 95.336,差分=1.6823\n",
      "268回目: theta0= 427.243,theta1= 95.347,差分=1.6159\n",
      "269回目: theta0= 427.281,theta1= 95.357,差分=1.5522\n",
      "270回目: theta0= 427.319,theta1= 95.368,差分=1.4909\n",
      "271回目: theta0= 427.355,theta1= 95.378,差分=1.4321\n",
      "272回目: theta0= 427.391,theta1= 95.388,差分=1.3756\n",
      "273回目: theta0= 427.426,theta1= 95.398,差分=1.3213\n",
      "274回目: theta0= 427.461,theta1= 95.408,差分=1.2692\n",
      "275回目: theta0= 427.495,theta1= 95.417,差分=1.2191\n",
      "276回目: theta0= 427.528,theta1= 95.426,差分=1.1710\n",
      "277回目: theta0= 427.560,theta1= 95.435,差分=1.1248\n",
      "278回目: theta0= 427.592,theta1= 95.444,差分=1.0804\n",
      "279回目: theta0= 427.623,theta1= 95.453,差分=1.0378\n",
      "280回目: theta0= 427.654,theta1= 95.462,差分=0.9969\n",
      "281回目: theta0= 427.684,theta1= 95.470,差分=0.9575\n",
      "282回目: theta0= 427.713,theta1= 95.479,差分=0.9197\n",
      "283回目: theta0= 427.742,theta1= 95.487,差分=0.8835\n",
      "284回目: theta0= 427.770,theta1= 95.495,差分=0.8486\n",
      "285回目: theta0= 427.797,theta1= 95.503,差分=0.8151\n",
      "286回目: theta0= 427.825,theta1= 95.510,差分=0.7830\n",
      "287回目: theta0= 427.851,theta1= 95.518,差分=0.7521\n",
      "288回目: theta0= 427.877,theta1= 95.525,差分=0.7224\n",
      "289回目: theta0= 427.902,theta1= 95.532,差分=0.6939\n",
      "290回目: theta0= 427.927,theta1= 95.540,差分=0.6665\n",
      "291回目: theta0= 427.952,theta1= 95.547,差分=0.6402\n",
      "292回目: theta0= 427.976,theta1= 95.553,差分=0.6150\n",
      "293回目: theta0= 427.999,theta1= 95.560,差分=0.5907\n",
      "294回目: theta0= 428.022,theta1= 95.567,差分=0.5674\n",
      "295回目: theta0= 428.045,theta1= 95.573,差分=0.5450\n",
      "296回目: theta0= 428.067,theta1= 95.580,差分=0.5235\n",
      "297回目: theta0= 428.089,theta1= 95.586,差分=0.5029\n",
      "298回目: theta0= 428.110,theta1= 95.592,差分=0.4830\n",
      "299回目: theta0= 428.131,theta1= 95.598,差分=0.4640\n",
      "300回目: theta0= 428.151,theta1= 95.604,差分=0.4457\n",
      "301回目: theta0= 428.171,theta1= 95.610,差分=0.4281\n",
      "302回目: theta0= 428.191,theta1= 95.615,差分=0.4112\n",
      "303回目: theta0= 428.210,theta1= 95.621,差分=0.3950\n",
      "304回目: theta0= 428.229,theta1= 95.626,差分=0.3794\n"
     ]
    },
    {
     "name": "stdout",
     "output_type": "stream",
     "text": [
      "305回目: theta0= 428.247,theta1= 95.631,差分=0.3644\n",
      "306回目: theta0= 428.265,theta1= 95.637,差分=0.3501\n",
      "307回目: theta0= 428.283,theta1= 95.642,差分=0.3362\n",
      "308回目: theta0= 428.300,theta1= 95.647,差分=0.3230\n",
      "309回目: theta0= 428.317,theta1= 95.652,差分=0.3102\n",
      "310回目: theta0= 428.334,theta1= 95.657,差分=0.2980\n",
      "311回目: theta0= 428.350,theta1= 95.661,差分=0.2862\n",
      "312回目: theta0= 428.366,theta1= 95.666,差分=0.2750\n",
      "313回目: theta0= 428.382,theta1= 95.671,差分=0.2641\n",
      "314回目: theta0= 428.397,theta1= 95.675,差分=0.2537\n",
      "315回目: theta0= 428.412,theta1= 95.680,差分=0.2437\n",
      "316回目: theta0= 428.427,theta1= 95.684,差分=0.2341\n",
      "317回目: theta0= 428.441,theta1= 95.688,差分=0.2248\n",
      "318回目: theta0= 428.456,theta1= 95.692,差分=0.2160\n",
      "319回目: theta0= 428.469,theta1= 95.696,差分=0.2075\n",
      "320回目: theta0= 428.483,theta1= 95.700,差分=0.1993\n",
      "321回目: theta0= 428.496,theta1= 95.704,差分=0.1914\n",
      "322回目: theta0= 428.510,theta1= 95.708,差分=0.1839\n",
      "323回目: theta0= 428.522,theta1= 95.712,差分=0.1766\n",
      "324回目: theta0= 428.535,theta1= 95.716,差分=0.1696\n",
      "325回目: theta0= 428.547,theta1= 95.719,差分=0.1629\n",
      "326回目: theta0= 428.559,theta1= 95.723,差分=0.1565\n",
      "327回目: theta0= 428.571,theta1= 95.726,差分=0.1503\n",
      "328回目: theta0= 428.583,theta1= 95.730,差分=0.1444\n",
      "329回目: theta0= 428.594,theta1= 95.733,差分=0.1387\n",
      "330回目: theta0= 428.605,theta1= 95.737,差分=0.1333\n",
      "331回目: theta0= 428.616,theta1= 95.740,差分=0.1280\n",
      "332回目: theta0= 428.627,theta1= 95.743,差分=0.1229\n",
      "333回目: theta0= 428.637,theta1= 95.746,差分=0.1181\n",
      "334回目: theta0= 428.647,theta1= 95.749,差分=0.1134\n",
      "335回目: theta0= 428.657,theta1= 95.752,差分=0.1090\n",
      "336回目: theta0= 428.667,theta1= 95.755,差分=0.1047\n",
      "337回目: theta0= 428.677,theta1= 95.758,差分=0.1005\n",
      "338回目: theta0= 428.686,theta1= 95.761,差分=0.0966\n",
      "339回目: theta0= 428.696,theta1= 95.764,差分=0.0928\n",
      "340回目: theta0= 428.705,theta1= 95.766,差分=0.0891\n",
      "341回目: theta0= 428.714,theta1= 95.769,差分=0.0856\n",
      "342回目: theta0= 428.722,theta1= 95.772,差分=0.0822\n",
      "343回目: theta0= 428.731,theta1= 95.774,差分=0.0790\n",
      "344回目: theta0= 428.739,theta1= 95.777,差分=0.0759\n",
      "345回目: theta0= 428.748,theta1= 95.779,差分=0.0729\n",
      "346回目: theta0= 428.756,theta1= 95.782,差分=0.0700\n",
      "347回目: theta0= 428.763,theta1= 95.784,差分=0.0672\n",
      "348回目: theta0= 428.771,theta1= 95.786,差分=0.0646\n",
      "349回目: theta0= 428.779,theta1= 95.789,差分=0.0620\n",
      "350回目: theta0= 428.786,theta1= 95.791,差分=0.0596\n",
      "351回目: theta0= 428.793,theta1= 95.793,差分=0.0572\n",
      "352回目: theta0= 428.801,theta1= 95.795,差分=0.0550\n",
      "353回目: theta0= 428.808,theta1= 95.797,差分=0.0528\n",
      "354回目: theta0= 428.814,theta1= 95.799,差分=0.0507\n",
      "355回目: theta0= 428.821,theta1= 95.802,差分=0.0487\n",
      "356回目: theta0= 428.828,theta1= 95.804,差分=0.0468\n",
      "357回目: theta0= 428.834,theta1= 95.806,差分=0.0450\n",
      "358回目: theta0= 428.841,theta1= 95.807,差分=0.0432\n",
      "359回目: theta0= 428.847,theta1= 95.809,差分=0.0415\n",
      "360回目: theta0= 428.853,theta1= 95.811,差分=0.0399\n",
      "361回目: theta0= 428.859,theta1= 95.813,差分=0.0383\n",
      "362回目: theta0= 428.865,theta1= 95.815,差分=0.0368\n",
      "363回目: theta0= 428.870,theta1= 95.817,差分=0.0353\n",
      "364回目: theta0= 428.876,theta1= 95.818,差分=0.0339\n",
      "365回目: theta0= 428.881,theta1= 95.820,差分=0.0326\n",
      "366回目: theta0= 428.887,theta1= 95.822,差分=0.0313\n",
      "367回目: theta0= 428.892,theta1= 95.823,差分=0.0301\n",
      "368回目: theta0= 428.897,theta1= 95.825,差分=0.0289\n",
      "369回目: theta0= 428.902,theta1= 95.826,差分=0.0277\n",
      "370回目: theta0= 428.907,theta1= 95.828,差分=0.0267\n",
      "371回目: theta0= 428.912,theta1= 95.829,差分=0.0256\n",
      "372回目: theta0= 428.917,theta1= 95.831,差分=0.0246\n",
      "373回目: theta0= 428.921,theta1= 95.832,差分=0.0236\n",
      "374回目: theta0= 428.926,theta1= 95.834,差分=0.0227\n",
      "375回目: theta0= 428.930,theta1= 95.835,差分=0.0218\n",
      "376回目: theta0= 428.935,theta1= 95.837,差分=0.0209\n",
      "377回目: theta0= 428.939,theta1= 95.838,差分=0.0201\n",
      "378回目: theta0= 428.943,theta1= 95.839,差分=0.0193\n",
      "379回目: theta0= 428.948,theta1= 95.841,差分=0.0186\n",
      "380回目: theta0= 428.952,theta1= 95.842,差分=0.0178\n",
      "381回目: theta0= 428.956,theta1= 95.843,差分=0.0171\n",
      "382回目: theta0= 428.959,theta1= 95.844,差分=0.0164\n",
      "383回目: theta0= 428.963,theta1= 95.845,差分=0.0158\n",
      "384回目: theta0= 428.967,theta1= 95.847,差分=0.0152\n",
      "385回目: theta0= 428.971,theta1= 95.848,差分=0.0146\n",
      "386回目: theta0= 428.974,theta1= 95.849,差分=0.0140\n",
      "387回目: theta0= 428.978,theta1= 95.850,差分=0.0135\n",
      "388回目: theta0= 428.981,theta1= 95.851,差分=0.0129\n",
      "389回目: theta0= 428.985,theta1= 95.852,差分=0.0124\n",
      "390回目: theta0= 428.988,theta1= 95.853,差分=0.0119\n",
      "391回目: theta0= 428.991,theta1= 95.854,差分=0.0115\n",
      "392回目: theta0= 428.994,theta1= 95.855,差分=0.0110\n",
      "393回目: theta0= 428.997,theta1= 95.856,差分=0.0106\n",
      "394回目: theta0= 429.000,theta1= 95.857,差分=0.0102\n",
      "395回目: theta0= 429.003,theta1= 95.858,差分=0.0098\n"
     ]
    }
   ],
   "source": [
    "# 学習率\n",
    "ETA=1e-3\n",
    "\n",
    "#誤差の微分\n",
    "diff=1\n",
    "\n",
    "#更新回数\n",
    "count=0\n",
    "\n",
    "#学習を繰り返す\n",
    "error=E(train_z,train_y)\n",
    "\n",
    "while diff > 1e-2 :\n",
    "    #更新結果を一時変数に保存\n",
    "    tmp0=theta0 -ETA *np.sum((f(train_z)-train_y))\n",
    "    tmp1=theta1 -ETA *np.sum((f(train_z)-train_y)*train_z)\n",
    "    #パラメータの更新\n",
    "    \n",
    "    theta0=tmp0\n",
    "    theta1=tmp1\n",
    "    \n",
    "    #前回の誤差との差分を計算\n",
    "    current_error=E(train_z,train_y)\n",
    "    diff=error-current_error\n",
    "    error=current_error\n",
    "    \n",
    "    #ログの出力\n",
    "    count+=1\n",
    "    log='{}回目: theta0= {:.3f},theta1= {:.3f},差分={:.4f}'\n",
    "    print(log.format(count,theta0,theta1,diff))"
   ]
  },
  {
   "cell_type": "code",
   "execution_count": 7,
   "metadata": {
    "ExecuteTime": {
     "end_time": "2018-08-17T13:40:27.136484Z",
     "start_time": "2018-08-17T13:40:27.055668Z"
    }
   },
   "outputs": [
    {
     "data": {
      "image/png": "[encoded data removed]",
      "text/plain": [
       "<Figure size 432x288 with 1 Axes>"
      ]
     },
     "metadata": {},
     "output_type": "display_data"
    }
   ],
   "source": [
    "x=np.linspace(-3,3,100)\n",
    "plt.plot(train_z,train_y,\"o\")\n",
    "plt.plot(x,f(x))\n",
    "plt.show()"
   ]
  },
  {
   "cell_type": "markdown",
   "metadata": {},
   "source": [
    "## 2-3検証"
   ]
  },
  {
   "cell_type": "code",
   "execution_count": 8,
   "metadata": {
    "ExecuteTime": {
     "end_time": "2018-08-17T13:40:28.243240Z",
     "start_time": "2018-08-17T13:40:28.239252Z"
    }
   },
   "outputs": [
    {
     "name": "stdout",
     "output_type": "stream",
     "text": [
      "370.97990668483266\n",
      "510.45955430964017\n",
      "649.9392019344477\n"
     ]
    }
   ],
   "source": [
    "print(f(standardize(100)))\n",
    "print(f(standardize(200)))\n",
    "print(f(standardize(300)))"
   ]
  },
  {
   "cell_type": "markdown",
   "metadata": {},
   "source": [
    "## 2-4多項式回帰の実装"
   ]
  },
  {
   "cell_type": "code",
   "execution_count": 9,
   "metadata": {
    "ExecuteTime": {
     "end_time": "2018-08-17T13:40:29.514841Z",
     "start_time": "2018-08-17T13:40:29.200681Z"
    }
   },
   "outputs": [],
   "source": [
    "np.random.seed(SEED)\n",
    "#パラメータを初期化\n",
    "theta=np.random.rand(3)\n",
    "#学習データの行列を作る\n",
    "def to_matrix(x):\n",
    "    return np.vstack([np.ones(x.shape[0]),x,x**2]).T\n",
    "\n",
    "X=to_matrix(train_z)\n",
    "\n",
    "#予測関数\n",
    "def f(x):\n",
    "    return np.dot(x,theta)\n",
    "\n",
    "#差分の更新\n",
    "diff=1\n",
    "#学習を繰り返す\n",
    "error=E(X,train_y)\n",
    "while diff > 1e-2:\n",
    "    #パラメータを更新\n",
    "    theta = theta - ETA * np.dot(f(X)-train_y,X)\n",
    "    #前回の誤差との差分を更新\n",
    "    current_error= E(X,train_y)\n",
    "    diff = error - current_error\n",
    "    error = current_error"
   ]
  },
  {
   "cell_type": "code",
   "execution_count": 10,
   "metadata": {
    "ExecuteTime": {
     "end_time": "2018-08-17T13:40:29.764175Z",
     "start_time": "2018-08-17T13:40:29.652474Z"
    }
   },
   "outputs": [
    {
     "data": {
      "image/png": "[encoded data removed]",
      "text/plain": [
       "<Figure size 432x288 with 1 Axes>"
      ]
     },
     "metadata": {},
     "output_type": "display_data"
    }
   ],
   "source": [
    "x=np.linspace(-3,3,100)\n",
    "plt.plot(train_z,train_y,\"o\")\n",
    "plt.plot(x,f(to_matrix(x)))\n",
    "plt.show()"
   ]
  },
  {
   "cell_type": "markdown",
   "metadata": {
    "ExecuteTime": {
     "end_time": "2018-08-15T04:03:12.994063Z",
     "start_time": "2018-08-15T04:03:12.990046Z"
    }
   },
   "source": [
    "## 2-11.平均二乗誤差"
   ]
  },
  {
   "cell_type": "code",
   "execution_count": 12,
   "metadata": {
    "ExecuteTime": {
     "end_time": "2018-08-17T13:41:46.598702Z",
     "start_time": "2018-08-17T13:41:46.201503Z"
    }
   },
   "outputs": [
    {
     "data": {
      "image/png": "[encoded data removed]",
      "text/plain": [
       "<Figure size 432x288 with 1 Axes>"
      ]
     },
     "metadata": {},
     "output_type": "display_data"
    }
   ],
   "source": [
    "#平均二乗誤差\n",
    "def MSE(x,y):\n",
    "    return (1/ x.shape[0]) * np.sum(y-f(x) ** 2)\n",
    "#パラメータをランダムに初期化\n",
    "np.random.seed(SEED)\n",
    "theta = np.random.rand(3)\n",
    "#平均二乗誤差の履歴\n",
    "errors=[]\n",
    "\n",
    "#誤差の差分\n",
    "diff = 1\n",
    "#学習を繰り返す\n",
    "errors.append(MSE(X,train_y))\n",
    "\n",
    "while diff > 1e-2:\n",
    "    theta = theta - ETA * np.dot(f(X)-train_y,X)\n",
    "    errors.append(MSE(X,train_y))\n",
    "    diff = errors[-2] - errors[-1]\n",
    "#誤差のプロット\n",
    "x=np.arange(len(errors))\n",
    "plt.plot(x,errors)\n",
    "plt.show()"
   ]
  },
  {
   "cell_type": "markdown",
   "metadata": {},
   "source": [
    "## 2-12.確率的勾配降下法の実装"
   ]
  },
  {
   "cell_type": "code",
   "execution_count": 20,
   "metadata": {
    "ExecuteTime": {
     "end_time": "2018-08-17T13:49:02.909766Z",
     "start_time": "2018-08-17T13:49:02.343140Z"
    }
   },
   "outputs": [
    {
     "data": {
      "image/png": "[encoded data removed]",
      "text/plain": [
       "<Figure size 432x288 with 1 Axes>"
      ]
     },
     "metadata": {},
     "output_type": "display_data"
    }
   ],
   "source": [
    "#パラメータをランダムに初期化\n",
    "np.random.seed(SEED+1)\n",
    "theta = np.random.rand(3)\n",
    "#平均二乗誤差の履歴\n",
    "errors=[]\n",
    " \n",
    "#誤差の差分\n",
    "diff = 1\n",
    "#学習を繰り返す\n",
    "errors.append(MSE(X,train_y))\n",
    "\n",
    "while diff > 1e-2:\n",
    "    #学習データを並べ替えるためにランダムな順列を用意する\n",
    "    p=np.random.permutation(X.shape[0])\n",
    "    #学習データをランダムに取り出して確率的勾配降下法でパラメータを更新\n",
    "    for x,y in zip(X[p,:],train_y[p]):\n",
    "        theta = theta - ETA * (f(x)-y)* x\n",
    "    errors.append(MSE(X,train_y))\n",
    "    diff = errors[-2] - errors[-1]\n",
    "#誤差のプロット\n",
    "x=np.linspace(-3,3,100)\n",
    "plt.plot(train_z,train_y,\"o\")\n",
    "plt.plot(x,f(to_matrix(x)))\n",
    "plt.show()"
   ]
  }
 ],
 "metadata": {
  "kernelspec": {
   "display_name": "Python 3",
   "language": "python",
   "name": "python3"
  },
  "language_info": {
   "codemirror_mode": {
    "name": "ipython",
    "version": 3
   },
   "file_extension": ".py",
   "mimetype": "text/x-python",
   "name": "python",
   "nbconvert_exporter": "python",
   "pygments_lexer": "ipython3",
   "version": "3.6.5"
  }
 },
 "nbformat": 4,
 "nbformat_minor": 2
}
